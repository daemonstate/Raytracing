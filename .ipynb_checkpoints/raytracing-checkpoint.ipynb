{
 "cells": [
  {
   "cell_type": "markdown",
   "id": "b5681c5b-0b55-4e8f-9955-4745f65d699c",
   "metadata": {},
   "source": [
    "Task 1 (ray generation):\n",
    " - Create a uniform PDF within 0 and 1 for M pairs of angles (-2phi, 2phi)\n",
    " - accept if thetax^2+thetay^2 < phi^2, reject otherwise\n",
    " - accepted rays are stored in an array thetax_A and thetay_A of size N (number of accepted rays) \n"
   ]
  },
  {
   "cell_type": "code",
   "execution_count": 64,
   "id": "867ddc16-5c98-4bd4-b6a1-ae4d972704b3",
   "metadata": {},
   "outputs": [],
   "source": [
    "import numpy as np\n",
    "\n",
    "def ray_generation(M, phi_c, pdf_type=\"uniform\"):\n",
    "    if pdf_type == \"uniform\":\n",
    "        thetax_A = []\n",
    "        thetay_A = []\n",
    "        theta_x = np.random.uniform(-2 * phi_c, 2 * phi_c, M)\n",
    "        theta_y = np.random.uniform(-2 * phi_c, 2 * phi_c, M)\n",
    "        \n",
    "        for x in range(len(theta_x)):\n",
    "            if (theta_x[x]**2 + theta_y[x]**2 < phi_c**2):\n",
    "                thetax_A.append(theta_x[x])\n",
    "                thetay_A.append(theta_y[x])\n",
    "                \n",
    "        N = len(thetax_A)\n",
    "        print(\"number of accepted rays\", N)\n",
    "        return thetax_A, thetay_A, N\n"
   ]
  },
  {
   "cell_type": "code",
   "execution_count": 65,
   "id": "60c1f7f7-4d9e-4925-891b-126afe587459",
   "metadata": {},
   "outputs": [
    {
     "name": "stdout",
     "output_type": "stream",
     "text": [
      "number of accepted rays 1\n"
     ]
    },
    {
     "data": {
      "text/plain": [
       "([0.2193535788239307], [-0.45381474463907256], 1)"
      ]
     },
     "execution_count": 65,
     "metadata": {},
     "output_type": "execute_result"
    }
   ],
   "source": [
    "ray_generation(4, np.pi/4)"
   ]
  },
  {
   "cell_type": "markdown",
   "id": "6704eba2-0e84-4d1c-90ac-d142e79d7b21",
   "metadata": {},
   "source": [
    "Task 2 (ray propagation):\n",
    " - given a z_start, z_end, angle's thetax and thetay, identify coordinates xh and yh where an angle arrives\n",
    " - xh and yh are vectors of N size of x and y coordinates of a ray\n",
    " </br>\n",
    " <img src = \"raypropagation.svg\">"
   ]
  },
  {
   "cell_type": "code",
   "execution_count": 66,
   "id": "79805cc1-2de6-4da5-b6b4-8b82fddaddf4",
   "metadata": {},
   "outputs": [],
   "source": [
    "def ray_propagation(theta_x, theta_y, z_start, z_end):\n",
    "    xh = []\n",
    "    yh = []\n",
    "    d = z_end-z_start\n",
    "    \n",
    "    for angle_x in theta_x:\n",
    "        xh_x = np.tan(angle_x)*d\n",
    "        xh.append(xh_x)\n",
    "    for angle_y in theta_y:\n",
    "        yh_x = np.tan(angle_y)*d\n",
    "        yh.append(yh_x)\n",
    "\n",
    "    return xh,yh"
   ]
  },
  {
   "cell_type": "code",
   "execution_count": 67,
   "id": "999c979f-729a-4d4b-8deb-05e847d8faa6",
   "metadata": {},
   "outputs": [
    {
     "name": "stdout",
     "output_type": "stream",
     "text": [
      "number of accepted rays 26\n"
     ]
    }
   ],
   "source": [
    "thetax, thetay, N = ray_generation(100, np.pi/4)"
   ]
  },
  {
   "cell_type": "code",
   "execution_count": 68,
   "id": "9c0f5517-7698-4322-baa8-50fd541e2821",
   "metadata": {
    "collapsed": true,
    "jupyter": {
     "outputs_hidden": true
    },
    "tags": []
   },
   "outputs": [
    {
     "data": {
      "text/plain": [
       "([-9.326694114864193e-06,\n",
       "  -1.762536061872525e-05,\n",
       "  0.0002782386869011174,\n",
       "  7.920581569502437e-05,\n",
       "  -0.00010172304151359821,\n",
       "  -0.00023867842181428522,\n",
       "  -0.00028974400271991217,\n",
       "  -4.81675825225323e-05,\n",
       "  -0.00019698914522585452,\n",
       "  0.0002489613470809351,\n",
       "  0.00029763620822297775,\n",
       "  0.00018070115587290165,\n",
       "  0.0001319984080502361,\n",
       "  0.0002989071642979682,\n",
       "  -0.00016146681948781772,\n",
       "  0.0002625692677846181,\n",
       "  0.00013778958140052669,\n",
       "  0.0003208167971485886,\n",
       "  0.00022732226251248803,\n",
       "  3.5107939628255575e-05,\n",
       "  -2.3230396142112182e-05,\n",
       "  7.286384333175729e-05,\n",
       "  0.0001533651648675602,\n",
       "  0.00019146679976518694,\n",
       "  -4.96629742858509e-05,\n",
       "  0.0004813414511781317],\n",
       " [-0.0001502707478491004,\n",
       "  0.0003428820349002684,\n",
       "  7.560421154596048e-05,\n",
       "  -0.0002102136581940709,\n",
       "  -0.00012530188851827726,\n",
       "  -0.0003709066494052274,\n",
       "  -0.00027365045144810943,\n",
       "  0.00024003124336710626,\n",
       "  0.00029344481269813716,\n",
       "  -0.0002555977642501785,\n",
       "  0.00016920826132505457,\n",
       "  -0.00021442671916977198,\n",
       "  5.0850358016011005e-05,\n",
       "  -0.00010244037768013568,\n",
       "  -4.682859538620157e-05,\n",
       "  3.357097407814223e-05,\n",
       "  0.0003213385976796607,\n",
       "  -0.00023774054425174546,\n",
       "  0.0003681216189111133,\n",
       "  -7.09535179577795e-05,\n",
       "  3.962668076454549e-05,\n",
       "  -6.136280775981178e-05,\n",
       "  -0.00024047015264844153,\n",
       "  -0.00039672895950915724,\n",
       "  -6.546318294364001e-05,\n",
       "  6.358875860860554e-05])"
      ]
     },
     "execution_count": 68,
     "metadata": {},
     "output_type": "execute_result"
    }
   ],
   "source": [
    "ray_propagation(thetax,thetay, 0, 0.0005)"
   ]
  },
  {
   "cell_type": "markdown",
   "id": "64e2cbf3-81dc-49a8-86d0-e9d31482da03",
   "metadata": {},
   "source": [
    "Task 3 (ray reception): \n",
    " - (thetax, thetay) must be within the acceptance region (by default true due to the implementation of ray generation)\n",
    " - (xh, yh) must be within the core (radius rf)\n",
    " </br>\n",
    " <img src= \"task4.svg\">"
   ]
  },
  {
   "cell_type": "code",
   "execution_count": 75,
   "id": "17cccb89-ed88-45d5-91e2-aa3193f6d862",
   "metadata": {},
   "outputs": [],
   "source": [
    "def ray_reception(theta_x, theta_y, xh, yh, rf, phi_c, xc=0, yc=0):\n",
    "    NR = 0\n",
    "    for x in range(len(theta_x)):\n",
    "        if (theta_x[x]**2 + theta_y[x]**2 < phi_c**2) and (np.sqrt((xh[x]-xc)**2 + (yh[x]-yc)**2)<rf):\n",
    "            NR +=1\n",
    "    return NR"
   ]
  },
  {
   "cell_type": "code",
   "execution_count": 81,
   "id": "db85544b-4341-49b1-a1c6-fc90ad2e5917",
   "metadata": {},
   "outputs": [
    {
     "name": "stdout",
     "output_type": "stream",
     "text": [
      "number of accepted rays 19707\n"
     ]
    },
    {
     "data": {
      "text/plain": [
       "{0: 100.0,\n",
       " 5: 100.0,\n",
       " 10: 100.0,\n",
       " 15: 100.0,\n",
       " 20: 100.0,\n",
       " 25: 100.0,\n",
       " 30: 100.0,\n",
       " 35: 100.0,\n",
       " 40: 100.0,\n",
       " 45: 100.0,\n",
       " 50: 100.0,\n",
       " 55: 100.0,\n",
       " 60: 100.0,\n",
       " 65: 92.3631197036586,\n",
       " 70: 79.67219769625007,\n",
       " 75: 69.28502562541229,\n",
       " 80: 60.76521033135434,\n",
       " 85: 53.62054092454458,\n",
       " 90: 47.82057137057898,\n",
       " 95: 43.010097934744,\n",
       " 100: 38.773024813518035,\n",
       " 105: 35.22606180544984,\n",
       " 110: 32.0495255492972,\n",
       " 115: 29.273862079464152,\n",
       " 120: 26.99040949916273,\n",
       " 125: 24.925153498756785,\n",
       " 130: 23.067945400111636,\n",
       " 135: 21.505048967372,\n",
       " 140: 19.972598569036382,\n",
       " 145: 18.66341908966357,\n",
       " 150: 17.33901659308875,\n",
       " 155: 16.28355406708276,\n",
       " 160: 15.283909270817475,\n",
       " 165: 14.461866341908966,\n",
       " 170: 13.690566803673821,\n",
       " 175: 12.86852387476531,\n",
       " 180: 12.137819049068858,\n",
       " 185: 11.544121378190491,\n",
       " 190: 10.92505201197544,\n",
       " 195: 10.478510174049829,\n",
       " 200: 10.011670979854873,\n",
       " 205: 9.494088394986552,\n",
       " 210: 9.057695235195617,\n",
       " 215: 8.565484345663977,\n",
       " 220: 8.164611559344396,\n",
       " 225: 7.738367077688131,\n",
       " 230: 7.449129750849952,\n",
       " 235: 7.164966763079109,\n",
       " 240: 6.9011011315776125,\n",
       " 245: 6.6524585172781245,\n",
       " 250: 6.368295529507281,\n",
       " 255: 6.094281219871112,\n",
       " 260: 5.850712944638961,\n",
       " 265: 5.632516364743492,\n",
       " 270: 5.409245445780687,\n",
       " 275: 5.246866595625919,\n",
       " 280: 5.099710762673162,\n",
       " 285: 4.95762926878774,\n",
       " 290: 4.810473435834982,\n",
       " 295: 4.658243263814888,\n",
       " 300: 4.490790074592784,\n",
       " 305: 4.343634241640027,\n",
       " 310: 4.257370477495306,\n",
       " 315: 4.094991627340539,\n",
       " 320: 3.988430506926473,\n",
       " 325: 3.8666463693103976,\n",
       " 330: 3.734713553559649,\n",
       " 335: 3.623078094078246,\n",
       " 340: 3.4911452783274974,\n",
       " 345: 3.420104531384787,\n",
       " 350: 3.2729486984320295,\n",
       " 355: 3.176536256152636,\n",
       " 360: 3.0953468310752528,\n",
       " 365: 3.009083066930532,\n",
       " 370: 2.8720759121124475,\n",
       " 375: 2.826406860506419,\n",
       " 380: 2.7452174354290353,\n",
       " 385: 2.6741766884863245,\n",
       " 390: 2.6082102806109506,\n",
       " 395: 2.5473182118029127,\n",
       " 400: 2.466128786725529,\n",
       " 405: 2.415385396052164,\n",
       " 410: 2.3544933272441266,\n",
       " 415: 2.2682295630994065,\n",
       " 420: 2.2073374942913686,\n",
       " 425: 2.1565941036180036,\n",
       " 430: 2.115999391079312,\n",
       " 435: 2.0703303394732835,\n",
       " 440: 2.0145126097325825,\n",
       " 445: 1.948546201857208,\n",
       " 450: 1.8927284721165067,\n",
       " 455: 1.8876541330491703,\n",
       " 460: 1.8369107423758055,\n",
       " 465: 1.7810930126351043,\n",
       " 470: 1.7506469782310856,\n",
       " 475: 1.7252752828944031,\n",
       " 480: 1.6999035875577206,\n",
       " 485: 1.6542345359516923,\n",
       " 490: 1.6339371796823463,\n",
       " 495: 1.6187141624803372,\n",
       " 500: 1.5679707718069722}"
      ]
     },
     "execution_count": 81,
     "metadata": {},
     "output_type": "execute_result"
    }
   ],
   "source": [
    "rf = 5 # consider every calculation in micron already\n",
    "NA = 0.08\n",
    "phi_c = np.arcsin(NA)\n",
    "M = 100000\n",
    "pdf_type = \"uniform\"\n",
    "\n",
    "theta_x, theta_y, N = ray_generation(M, phi_c, pdf_type)\n",
    "ratio = {}\n",
    "for d in range(0,505,5):\n",
    "    xh, yh = ray_propagation(theta_x, theta_y, 0, d)\n",
    "    NR = ray_reception(theta_x,theta_y, xh, yh, rf, phi_c) \n",
    "    ratio[d] = (NR/N)*100\n",
    "\n",
    "ratio"
   ]
  },
  {
   "cell_type": "code",
   "execution_count": null,
   "id": "fe41e0f5-591c-4b69-b7ee-30f65f1e0669",
   "metadata": {},
   "outputs": [],
   "source": []
  }
 ],
 "metadata": {
  "kernelspec": {
   "display_name": "Python 3 (ipykernel)",
   "language": "python",
   "name": "python3"
  },
  "language_info": {
   "codemirror_mode": {
    "name": "ipython",
    "version": 3
   },
   "file_extension": ".py",
   "mimetype": "text/x-python",
   "name": "python",
   "nbconvert_exporter": "python",
   "pygments_lexer": "ipython3",
   "version": "3.10.8"
  }
 },
 "nbformat": 4,
 "nbformat_minor": 5
}
